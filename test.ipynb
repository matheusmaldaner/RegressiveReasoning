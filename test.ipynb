{
 "cells": [
  {
   "cell_type": "code",
   "execution_count": 23,
   "metadata": {},
   "outputs": [],
   "source": [
    "import tensorflow as tf\n",
    "import numpy as np\n",
    "\n",
    "from sklearn.metrics import accuracy_score"
   ]
  },
  {
   "cell_type": "code",
   "execution_count": 24,
   "metadata": {},
   "outputs": [
    {
     "data": {
      "text/plain": [
       "(270000, 5933)"
      ]
     },
     "execution_count": 24,
     "metadata": {},
     "output_type": "execute_result"
    }
   ],
   "source": [
    "# change variables to match names\n",
    "data_path = 'easy_data.npy'\n",
    "labels_path = 'easy_labels.npy'\n",
    "\n",
    "data = np.load(data_path)\n",
    "labels = np.load(labels_path)\n",
    "data = data.astype('uint8')\n",
    "data.shape"
   ]
  },
  {
   "cell_type": "code",
   "execution_count": 39,
   "metadata": {},
   "outputs": [
    {
     "data": {
      "text/plain": [
       "(270000, 110)"
      ]
     },
     "execution_count": 39,
     "metadata": {},
     "output_type": "execute_result"
    }
   ],
   "source": [
    "# change variables to match names\n",
    "hard_data_path = 'hard_data.npy'\n",
    "hard_labels_path = 'hard_labels.npy'\n",
    "\n",
    "hard_data = np.load(hard_data_path)\n",
    "hard_labels = np.load(hard_labels_path)\n",
    "hard_data.shape"
   ]
  },
  {
   "cell_type": "code",
   "execution_count": 40,
   "metadata": {},
   "outputs": [],
   "source": [
    "CHECKPOINT_FILEPATH = 'efficientnetv2-s/checkpoints/'"
   ]
  },
  {
   "cell_type": "code",
   "execution_count": 41,
   "metadata": {},
   "outputs": [],
   "source": [
    "def test(X, t):\n",
    "    \"\"\"Output accuracy given data array and targets\n",
    "\n",
    "    Args:\n",
    "        X (np.array): Data of shape (270000, num_samples)\n",
    "        t (np.array): Targets of shape (num_samples,)\n",
    "    \"\"\"\n",
    "    # Transpose data\n",
    "    X = X.T\n",
    "    # Load best model from training\n",
    "    saved_model = tf.keras.models.load_model(CHECKPOINT_FILEPATH)\n",
    "\n",
    "    preds = np.argmax(saved_model.predict(X), axis=-1)\n",
    "\n",
    "    acc = accuracy_score(t, preds)\n",
    "\n",
    "    return acc, preds"
   ]
  },
  {
   "cell_type": "code",
   "execution_count": 42,
   "metadata": {},
   "outputs": [],
   "source": [
    "def test_hard(X, t, threshold):\n",
    "    \"\"\"Output accuracy given data array and targets\n",
    "\n",
    "    Args:\n",
    "        X (np.array): Data of shape (270000, num_samples)\n",
    "        t (np.array): Targets of shape (num_samples,)\n",
    "        threshold (float): A threshold for predicting a value vs predicting -1\n",
    "    \"\"\"\n",
    "    # Transpose data\n",
    "    X = X.T\n",
    "    # Load best model from training\n",
    "    saved_model = tf.keras.models.load_model(CHECKPOINT_FILEPATH)\n",
    "\n",
    "    # Use softmax predictions to predict based on threshold\n",
    "    preds = saved_model.predict(X)\n",
    "    ret_preds = []\n",
    "    for p in preds:\n",
    "        if np.max(p) >= threshold:\n",
    "            ret_preds.append(np.argmax(p))\n",
    "        else:\n",
    "            ret_preds.append(-1)\n",
    "\n",
    "    acc = accuracy_score(t, ret_preds)\n",
    "\n",
    "    return acc, ret_preds"
   ]
  },
  {
   "cell_type": "code",
   "execution_count": 43,
   "metadata": {},
   "outputs": [
    {
     "name": "stdout",
     "output_type": "stream",
     "text": [
      "Reported easy test accuracy:  0.9710096072813079\n",
      "Reported easy test predictions:  [8 9 3 ... 5 0 4]\n"
     ]
    }
   ],
   "source": [
    "acc, ret_preds = test(data, labels)\n",
    "\n",
    "print(\"Reported easy test accuracy: \", acc)\n",
    "print(\"Reported easy test predictions: \", ret_preds)"
   ]
  },
  {
   "cell_type": "code",
   "execution_count": 51,
   "metadata": {},
   "outputs": [
    {
     "name": "stdout",
     "output_type": "stream",
     "text": [
      "Reported hard test accuracy:  0.5909090909090909\n",
      "Reported hard_test predictions:  [7, 1, 3, 3, 3, 4, 5, 6, 7, 8, 6, 7, 1, 7, 2, 2, 4, 5, 6, 7, 8, 9, 1, 1, 7, 2, 3, 7, 5, 6, 7, 8, 6, 1, 7, 8, 2, 3, 4, 5, 6, 7, 8, 2, 1, 3, 7, 2, 3, 4, 5, 8, 7, 3, 9, 0, 8, 8, 2, 2, 9, 5, 6, 7, 7, 1, 7, 8, 7, 2, 2, 7, 2, 8, 7, 8, 9, 7, 2, 4, 2, 3, 4, 5, 6, 7, 8, 9, 0, 7, 7, 2, 3, 4, 2, 6, 7, 8, 2, 1, 1, 8, 2, 3, 4, 5, 7, 7, 9, 3]\n"
     ]
    }
   ],
   "source": [
    "hard_acc, hard_ret_preds = test_hard(hard_data, hard_labels, 0.26)\n",
    "\n",
    "print(\"Reported hard test accuracy: \", hard_acc)\n",
    "print(\"Reported hard_test predictions: \", hard_ret_preds)"
   ]
  }
 ],
 "metadata": {
  "kernelspec": {
   "display_name": "Tensorflow-2.7.0",
   "language": "python",
   "name": "tensorflow-2.7.0"
  },
  "language_info": {
   "codemirror_mode": {
    "name": "ipython",
    "version": 3
   },
   "file_extension": ".py",
   "mimetype": "text/x-python",
   "name": "python",
   "nbconvert_exporter": "python",
   "pygments_lexer": "ipython3",
   "version": "3.9.12"
  }
 },
 "nbformat": 4,
 "nbformat_minor": 4
}
